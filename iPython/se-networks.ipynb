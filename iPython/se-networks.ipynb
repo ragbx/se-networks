{
 "metadata": {
  "name": ""
 },
 "nbformat": 3,
 "nbformat_minor": 0,
 "worksheets": [
  {
   "cells": [
    {
     "cell_type": "markdown",
     "metadata": {},
     "source": [
      "# Bipartite Networks with iPython\n",
      "\n",
      "- Author: Stefan Kasberger\n",
      "- Date: February 2014\n",
      "- Course: SE Networks from Prof. Peter Csermely\n",
      "- [GitHub](https://github.com/skasberger/se-networks) & [openscienceASAP](http://openscienceasap.org/education/courses/se-networks/)\n",
      "- [networkx bipartite module](http://networkx.lanl.gov/reference/algorithms.bipartite.html)"
     ]
    },
    {
     "cell_type": "markdown",
     "metadata": {},
     "source": [
      "## Setup and Preprocessing"
     ]
    },
    {
     "cell_type": "markdown",
     "metadata": {},
     "source": [
      "Import modules"
     ]
    },
    {
     "cell_type": "code",
     "collapsed": false,
     "input": [
      "import networkx as nx\n",
      "from networkx.algorithms import bipartite\n",
      "from networkx.algorithms import centrality\n",
      "from networkx.algorithms import distance_measures\n",
      "from networkx.algorithms import shortest_paths\n",
      "from networkx.algorithms import components\n",
      "from networkx.algorithms import isolates\n",
      "from networkx.classes import function\n",
      "import matplotlib.pyplot as plt\n",
      "import math\n",
      "import csv"
     ],
     "language": "python",
     "metadata": {},
     "outputs": [],
     "prompt_number": 78
    },
    {
     "cell_type": "markdown",
     "metadata": {},
     "source": [
      "Import config file with your working directory = dir_se_networks"
     ]
    },
    {
     "cell_type": "code",
     "collapsed": false,
     "input": [
      "from config import *\n",
      "\n",
      "# CUSTOM WORKING DIRECTORY\n",
      "# to add your working directory manually, uncomment the next line and add it instead of 'YOUR/FOLDER' to your folder\n",
      "# dir_se_networks = 'YOUR/FOLDER'"
     ],
     "language": "python",
     "metadata": {},
     "outputs": [],
     "prompt_number": 79
    },
    {
     "cell_type": "markdown",
     "metadata": {},
     "source": [
      "\n",
      "### Read in files"
     ]
    },
    {
     "cell_type": "markdown",
     "metadata": {},
     "source": [
      "Read out the data from the text files. The first column of the text file is the ID for the user, the second one is the ID for the Project. Save both columns as seperated lists for nodes."
     ]
    },
    {
     "cell_type": "code",
     "collapsed": false,
     "input": [
      "users = []\n",
      "projects = []\n",
      "\n",
      "# read out text file and save every column in a list\n",
      "with open(dir_se_networks + 'data/raw/github/out.github', 'rb') as csvfile:\n",
      "    nodes = csv.reader(csvfile, delimiter=' ')\n",
      "    for node in nodes:\n",
      "        users.append('A' + node[0])\n",
      "        projects.append('B' + node[1])\n",
      "csvfile.close()\n",
      "\n",
      "# delete head entries\n",
      "del users[0]\n",
      "del projects[0]"
     ],
     "language": "python",
     "metadata": {},
     "outputs": [],
     "prompt_number": 80
    },
    {
     "cell_type": "markdown",
     "metadata": {},
     "source": [
      "Read out the data from the text files. The first column is the ID for the entitites, the second the ID for the Countries. Save both columns as seperated lists for nodes."
     ]
    },
    {
     "cell_type": "code",
     "collapsed": false,
     "input": [
      "entities = []\n",
      "countries = []\n",
      "\n",
      "# read out text file and save every column in a list\n",
      "with open(dir_se_networks + 'data/raw/dbpedia-country/out.dbpedia-country', 'rb') as csvfile:\n",
      "    nodes = csv.reader(csvfile, delimiter=' ')\n",
      "    for node in nodes:\n",
      "        entities.append('A' + node[0])\n",
      "        countries.append('B' + node[1])\n",
      "csvfile.close()\n",
      "\n",
      "# delete head entries\n",
      "del entities[0]\n",
      "del countries[0]"
     ],
     "language": "python",
     "metadata": {},
     "outputs": [],
     "prompt_number": 81
    },
    {
     "cell_type": "markdown",
     "metadata": {},
     "source": [
      "### Create Graphs"
     ]
    },
    {
     "cell_type": "markdown",
     "metadata": {},
     "source": [
      "Create graph and add the the user and project lists as nodes to it."
     ]
    },
    {
     "cell_type": "code",
     "collapsed": false,
     "input": [
      "B_Github = nx.Graph()\n",
      "B_Github.add_nodes_from(users, bipartite=0)\n",
      "B_Github.add_nodes_from(projects, bipartite=1)\n",
      "print nx.function.info(B_Github)"
     ],
     "language": "python",
     "metadata": {},
     "outputs": [
      {
       "output_type": "stream",
       "stream": "stdout",
       "text": [
        "Name: \n",
        "Type: Graph\n",
        "Number of nodes: 177386\n",
        "Number of edges: 0\n",
        "Average degree:   0.0000\n"
       ]
      }
     ],
     "prompt_number": 82
    },
    {
     "cell_type": "markdown",
     "metadata": {},
     "source": [
      "Create graph and add the the entities and countries lists as nodes to it."
     ]
    },
    {
     "cell_type": "code",
     "collapsed": false,
     "input": [
      "B_dbpedia = nx.Graph()\n",
      "B_dbpedia.add_nodes_from(entities, bipartite=0)\n",
      "B_dbpedia.add_nodes_from(countries, bipartite=1)\n",
      "print nx.function.info(B_dbpedia)"
     ],
     "language": "python",
     "metadata": {},
     "outputs": [
      {
       "output_type": "stream",
       "stream": "stdout",
       "text": [
        "Name: \n",
        "Type: Graph\n",
        "Number of nodes: 550522\n",
        "Number of edges: 0\n",
        "Average degree:   0.0000\n"
       ]
      }
     ],
     "prompt_number": 83
    },
    {
     "cell_type": "markdown",
     "metadata": {},
     "source": [
      "Create subset for user and project nodes."
     ]
    },
    {
     "cell_type": "code",
     "collapsed": false,
     "input": [
      "users_nodes = set(n for n,d in B_Github.nodes(data=True) if d['bipartite']==0)\n",
      "projects_nodes = set(B_Github) - users_nodes\n",
      "print 'User: ' + str(len(users_nodes)) + ' and Projects: ' + str(len(projects_nodes))"
     ],
     "language": "python",
     "metadata": {},
     "outputs": [
      {
       "output_type": "stream",
       "stream": "stdout",
       "text": [
        "User: 56519 and Projects: 120867\n"
       ]
      }
     ],
     "prompt_number": 84
    },
    {
     "cell_type": "markdown",
     "metadata": {},
     "source": [
      "Create subset for entities and countries nodes."
     ]
    },
    {
     "cell_type": "code",
     "collapsed": false,
     "input": [
      "entities_nodes = set(n for n,d in B_dbpedia.nodes(data=True) if d['bipartite']==0)\n",
      "countries_nodes = set(B_dbpedia) - entities_nodes\n",
      "print 'Entities: ' + str(len(entities_nodes)) + ' and Countries: ' + str(len(countries_nodes))"
     ],
     "language": "python",
     "metadata": {},
     "outputs": [
      {
       "output_type": "stream",
       "stream": "stdout",
       "text": [
        "Entities: 548077 and Countries: 2445\n"
       ]
      }
     ],
     "prompt_number": 85
    },
    {
     "cell_type": "markdown",
     "metadata": {},
     "source": [
      "Create a list of edge tuples and add them as edges to the graph."
     ]
    },
    {
     "cell_type": "code",
     "collapsed": false,
     "input": [
      "edge_list = []\n",
      "for i in range(len(users)):\n",
      "    edge_list.append((user[i], projects[i]))\n",
      "\n",
      "B_Github.add_edges_from(edge_list)\n",
      "print nx.function.info(B_Github)"
     ],
     "language": "python",
     "metadata": {},
     "outputs": [
      {
       "output_type": "stream",
       "stream": "stdout",
       "text": [
        "Name: \n",
        "Type: Graph\n",
        "Number of nodes: 177386\n",
        "Number of edges: 440237\n",
        "Average degree:   4.9636\n"
       ]
      }
     ],
     "prompt_number": 86
    },
    {
     "cell_type": "code",
     "collapsed": false,
     "input": [
      "edge_list = []\n",
      "for i in range(len(entities)):\n",
      "    edge_list.append((entities[i], countries[i]))\n",
      "\n",
      "B_dbpedia.add_edges_from(edge_list)\n",
      "print nx.function.info(B_dbpedia)"
     ],
     "language": "python",
     "metadata": {},
     "outputs": [
      {
       "output_type": "stream",
       "stream": "stdout",
       "text": [
        "Name: \n",
        "Type: Graph\n",
        "Number of nodes: 550522\n",
        "Number of edges: 584947\n",
        "Average degree:   2.1251\n"
       ]
      }
     ],
     "prompt_number": 87
    },
    {
     "cell_type": "markdown",
     "metadata": {},
     "source": [
      "Check if graph is bipartite"
     ]
    },
    {
     "cell_type": "code",
     "collapsed": false,
     "input": [
      "print(nx.bipartite.is_bipartite(B_Github))\n",
      "print(nx.bipartite.is_bipartite(B_dbpedia))"
     ],
     "language": "python",
     "metadata": {},
     "outputs": [
      {
       "output_type": "stream",
       "stream": "stdout",
       "text": [
        "True\n",
        "True"
       ]
      },
      {
       "output_type": "stream",
       "stream": "stdout",
       "text": [
        "\n"
       ]
      }
     ],
     "prompt_number": 88
    },
    {
     "cell_type": "markdown",
     "metadata": {},
     "source": [
      "### Check Connectednes"
     ]
    },
    {
     "cell_type": "code",
     "collapsed": false,
     "input": [
      "print 'Connected: Github => ' + str(nx.is_connected(B_Github)) + ', dbpedia => ' + str(nx.is_connected(B_dbpedia))"
     ],
     "language": "python",
     "metadata": {},
     "outputs": [
      {
       "output_type": "stream",
       "stream": "stdout",
       "text": [
        "Connected: Github => False, dbpedia => False\n"
       ]
      }
     ],
     "prompt_number": 89
    },
    {
     "cell_type": "code",
     "collapsed": false,
     "input": [
      "print 'Isolation: Github => ' + str(nx.isolates(B_Github)) + ', dbpedia => ' + str(nx.isolates(B_dbpedia))"
     ],
     "language": "python",
     "metadata": {},
     "outputs": [
      {
       "output_type": "stream",
       "stream": "stdout",
       "text": [
        "Isolation: Github => [], dbpedia => []\n"
       ]
      }
     ],
     "prompt_number": 90
    },
    {
     "cell_type": "markdown",
     "metadata": {},
     "source": [
      "### Get Connected Components\n",
      "Cause the graph is not fully connected, and this is neccessary for further analysis, the giant component (largest connected component) gets calculated, then the second largest connected Component."
     ]
    },
    {
     "cell_type": "code",
     "collapsed": false,
     "input": [
      "GC_Github = components.connected_component_subgraphs(B_Github)[0]\n",
      "print nx.function.info(GC_Github)"
     ],
     "language": "python",
     "metadata": {},
     "outputs": [
      {
       "output_type": "stream",
       "stream": "stdout",
       "text": [
        "Name: \n",
        "Type: Graph\n",
        "Number of nodes: 139752\n",
        "Number of edges: 417361\n",
        "Average degree:   5.9729\n"
       ]
      }
     ],
     "prompt_number": 91
    },
    {
     "cell_type": "code",
     "collapsed": false,
     "input": [
      "GC_dbpedia = components.connected_component_subgraphs(B_dbpedia)[0]\n",
      "print nx.function.info(GC_dbpedia)"
     ],
     "language": "python",
     "metadata": {},
     "outputs": [
      {
       "output_type": "stream",
       "stream": "stdout",
       "text": [
        "Name: \n",
        "Type: Graph\n",
        "Number of nodes: 544947\n",
        "Number of edges: 580231\n",
        "Average degree:   2.1295\n"
       ]
      }
     ],
     "prompt_number": 92
    },
    {
     "cell_type": "code",
     "collapsed": false,
     "input": [
      "GC_users_nodes = set(n for n,d in GC_Github.nodes(data=True) if d['bipartite']==0)\n",
      "GC_projects_nodes = set(GC_Github) - GC_users_nodes\n",
      "print 'Users: ' + str(len(GC_users_nodes)) + ' and Projects: ' + str(len(GC_projects_nodes))"
     ],
     "language": "python",
     "metadata": {},
     "outputs": [
      {
       "output_type": "stream",
       "stream": "stdout",
       "text": [
        "Users: 39845 and Projects: 99907\n"
       ]
      }
     ],
     "prompt_number": 93
    },
    {
     "cell_type": "code",
     "collapsed": false,
     "input": [
      "GC_entities_nodes = set(n for n,d in GC_dbpedia.nodes(data=True) if d['bipartite']==0)\n",
      "GC_countries_nodes = set(GC_dbpedia) - GC_entities_nodes\n",
      "print 'Entities: ' + str(len(GC_entities_nodes)) + ' and Countries: ' + str(len(GC_countries_nodes))"
     ],
     "language": "python",
     "metadata": {},
     "outputs": [
      {
       "output_type": "stream",
       "stream": "stdout",
       "text": [
        "Entities: 543589 and Countries: 1358\n"
       ]
      }
     ],
     "prompt_number": 94
    },
    {
     "cell_type": "code",
     "collapsed": false,
     "input": [
      "LCC2_Github = components.connected_component_subgraphs(B_Github)[1]\n",
      "print nx.function.info(LCC2_Github)"
     ],
     "language": "python",
     "metadata": {},
     "outputs": [
      {
       "output_type": "stream",
       "stream": "stdout",
       "text": [
        "Name: \n",
        "Type: Graph\n",
        "Number of nodes: 45\n",
        "Number of edges: 44\n",
        "Average degree:   1.9556\n"
       ]
      }
     ],
     "prompt_number": 95
    },
    {
     "cell_type": "code",
     "collapsed": false,
     "input": [
      "LCC2_dbpedia = components.connected_component_subgraphs(B_dbpedia)[1]\n",
      "print nx.function.info(LCC2_dbpedia)"
     ],
     "language": "python",
     "metadata": {},
     "outputs": [
      {
       "output_type": "stream",
       "stream": "stdout",
       "text": [
        "Name: \n",
        "Type: Graph\n",
        "Number of nodes: 338\n",
        "Number of edges: 337\n",
        "Average degree:   1.9941\n"
       ]
      }
     ],
     "prompt_number": 96
    },
    {
     "cell_type": "code",
     "collapsed": false,
     "input": [
      "LCC2_users_nodes = set(n for n,d in LCC2_Github.nodes(data=True) if d['bipartite']==0)\n",
      "LCC2_projects_nodes = set(LCC2_Github) - LCC2_users_nodes\n",
      "print 'User: ' + str(len(LCC2_users_nodes)) + ' and Projects: ' + str(len(LCC2_projects_nodes))"
     ],
     "language": "python",
     "metadata": {},
     "outputs": [
      {
       "output_type": "stream",
       "stream": "stdout",
       "text": [
        "User: 3 and Projects: 42\n"
       ]
      }
     ],
     "prompt_number": 118
    },
    {
     "cell_type": "code",
     "collapsed": false,
     "input": [
      "LCC2_entities_nodes = set(n for n,d in LCC2_dbpedia.nodes(data=True) if d['bipartite']==0)\n",
      "LCC2_countries_nodes = set(LCC2_dbpedia) - LCC2_entities_nodes\n",
      "print 'Entities: ' + str(len(LCC2_entities_nodes)) + ' and Countries: ' + str(len(LCC2_countries_nodes))"
     ],
     "language": "python",
     "metadata": {},
     "outputs": [
      {
       "output_type": "stream",
       "stream": "stdout",
       "text": [
        "Entities: 337 and Countries: 1\n"
       ]
      }
     ],
     "prompt_number": 98
    },
    {
     "cell_type": "markdown",
     "metadata": {},
     "source": [
      "***Check Connectednes of Giant Component***"
     ]
    },
    {
     "cell_type": "code",
     "collapsed": false,
     "input": [
      "print 'Connected, Giant Component: Github => ' + str(nx.is_connected(GC_Github)) + ', dbpedia => ' + str(nx.is_connected(GC_dbpedia))\n",
      "print 'Connected, 2nd largest Connected Component: Github => ' + str(nx.is_connected(LCC2_Github)) + ', dbpedia => ' + str(nx.is_connected(LCC2_dbpedia))"
     ],
     "language": "python",
     "metadata": {},
     "outputs": [
      {
       "output_type": "stream",
       "stream": "stdout",
       "text": [
        "Connected, Giant Component: Github => True, dbpedia => True\n",
        "Connected, 2nd largest Connected Component: Github => True, dbpedia => True\n"
       ]
      }
     ],
     "prompt_number": 99
    },
    {
     "cell_type": "code",
     "collapsed": false,
     "input": [
      "print 'Isolation: Github => ' + str(nx.isolates(GC_Github)) + ', dbpedia => ' + str(nx.isolates(GC_dbpedia))\n",
      "print 'Isolation Reduced: Github => ' + str(nx.isolates(LCC2_Github)) + ', dbpedia => ' + str(nx.isolates(LCC2_dbpedia))"
     ],
     "language": "python",
     "metadata": {},
     "outputs": [
      {
       "output_type": "stream",
       "stream": "stdout",
       "text": [
        "Isolation: Github => [], dbpedia => []\n",
        "Isolation Reduced: Github => [], dbpedia => []\n"
       ]
      }
     ],
     "prompt_number": 100
    },
    {
     "cell_type": "markdown",
     "metadata": {},
     "source": [
      "### Weighted Projection\n",
      "***This can not be done cause of too expensive computation costs.***\n",
      "\n",
      "[Weighted projection](http://networkx.lanl.gov/reference/generated/networkx.algorithms.centrality.degree_centrality.html#networkx.algorithms.centrality.degree_centrality) to user-user unipartite network. "
     ]
    },
    {
     "cell_type": "code",
     "collapsed": false,
     "input": [
      "# GC\n",
      "# P_Github = nx.bipartite.weighted_projected_graph(GC_Github, GC_user_nodes, ratio=False)\n",
      "# print nx.classes.function.info(P_Github)\n",
      "\n",
      "# LCC2\n",
      "P_Github_LCC2 = nx.bipartite.weighted_projected_graph(LCC2_Github, LCC2_user_nodes, ratio=False)\n",
      "print nx.classes.function.info(P_Github_LCC2)\n"
     ],
     "language": "python",
     "metadata": {},
     "outputs": [
      {
       "output_type": "stream",
       "stream": "stdout",
       "text": [
        "Name: \n",
        "Type: Graph\n",
        "Number of nodes: 3\n",
        "Number of edges: 3\n",
        "Average degree:   2.0000\n"
       ]
      }
     ],
     "prompt_number": 115
    },
    {
     "cell_type": "markdown",
     "metadata": {},
     "source": [
      "Weighted projection to entitie-entitie unipartite network."
     ]
    },
    {
     "cell_type": "code",
     "collapsed": false,
     "input": [
      "# GC\n",
      "# P_dbpedia = bipartite.weighted_projected_graph(GC_dbpedia_red, entities_nodes_red, ratio=False)\n",
      "# print function.info(P_dbpedia)\n",
      "\n",
      "# LCC2\n",
      "P_dbpedia_LCC2 = bipartite.weighted_projected_graph(LCC2_dbpedia, LCC2_entities_nodes, ratio=False)\n",
      "print function.info(P_dbpedia_LCC2)"
     ],
     "language": "python",
     "metadata": {},
     "outputs": [
      {
       "output_type": "stream",
       "stream": "stdout",
       "text": [
        "Name: \n",
        "Type: Graph\n",
        "Number of nodes: 337\n",
        "Number of edges: 56616\n",
        "Average degree: 336.0000\n"
       ]
      }
     ],
     "prompt_number": 116
    },
    {
     "cell_type": "markdown",
     "metadata": {},
     "source": [
      "## Analysis"
     ]
    },
    {
     "cell_type": "markdown",
     "metadata": {},
     "source": [
      "### Degree Centrality\n",
      "Calculate the [Degree Centrality](http://networkx.lanl.gov/reference/generated/networkx.algorithms.bipartite.centrality.degree_centrality.html#networkx.algorithms.bipartite.centrality.degree_centrality)."
     ]
    },
    {
     "cell_type": "code",
     "collapsed": false,
     "input": [
      "DC_Github = bipartite.degree_centrality(GC_Github, users_nodes)"
     ],
     "language": "python",
     "metadata": {},
     "outputs": [],
     "prompt_number": 76
    },
    {
     "cell_type": "code",
     "collapsed": false,
     "input": [
      "DC_dbpedia = bipartite.degree_centrality(GC_dbpedia, entities_nodes)"
     ],
     "language": "python",
     "metadata": {},
     "outputs": [],
     "prompt_number": 77
    },
    {
     "cell_type": "markdown",
     "metadata": {},
     "source": [
      "### Betweeness Centralitiy\n",
      "Calculate [Betwenness Centrality](http://networkx.lanl.gov/reference/generated/networkx.algorithms.bipartite.centrality.betweenness_centrality.html#networkx.algorithms.bipartite.centrality.betweenness_centrality)"
     ]
    },
    {
     "cell_type": "code",
     "collapsed": false,
     "input": [
      "# GC\n",
      "# BC_Github = bipartite.betweenness_centrality(GC_Github, GC_users_nodes)\n",
      "\n",
      "# LCC2\n",
      "LCC2_BC_Github = bipartite.betweenness_centrality(LCC2_Github, LCC2_users_nodes)"
     ],
     "language": "python",
     "metadata": {},
     "outputs": [],
     "prompt_number": 120
    },
    {
     "cell_type": "code",
     "collapsed": false,
     "input": [
      "# GC\n",
      "# BC_dbpedia = bipartite.betweenness_centrality(GC_dbpedia, GC_entities_nodes)\n",
      "\n",
      "# LCC2 => ZeroDivisionError: float division by zero\n",
      "# LCC2_BC_dbpedia = bipartite.betweenness_centrality(LCC2_dbpedia, LCC2_entities_nodes)"
     ],
     "language": "python",
     "metadata": {},
     "outputs": [
      {
       "ename": "ZeroDivisionError",
       "evalue": "float division by zero",
       "output_type": "pyerr",
       "traceback": [
        "\u001b[1;31m---------------------------------------------------------------------------\u001b[0m\n\u001b[1;31mZeroDivisionError\u001b[0m                         Traceback (most recent call last)",
        "\u001b[1;32m<ipython-input-127-c5cc5e0e64ab>\u001b[0m in \u001b[0;36m<module>\u001b[1;34m()\u001b[0m\n\u001b[0;32m      3\u001b[0m \u001b[1;33m\u001b[0m\u001b[0m\n\u001b[0;32m      4\u001b[0m \u001b[1;31m# LCC2 => ERROR\u001b[0m\u001b[1;33m\u001b[0m\u001b[1;33m\u001b[0m\u001b[0m\n\u001b[1;32m----> 5\u001b[1;33m \u001b[0mLCC2_BC_dbpedia\u001b[0m \u001b[1;33m=\u001b[0m \u001b[0mbipartite\u001b[0m\u001b[1;33m.\u001b[0m\u001b[0mbetweenness_centrality\u001b[0m\u001b[1;33m(\u001b[0m\u001b[0mLCC2_dbpedia\u001b[0m\u001b[1;33m,\u001b[0m \u001b[0mLCC2_entities_nodes\u001b[0m\u001b[1;33m)\u001b[0m\u001b[1;33m\u001b[0m\u001b[0m\n\u001b[0m",
        "\u001b[1;32m/usr/local/lib/python2.7/dist-packages/networkx/algorithms/bipartite/centrality.pyc\u001b[0m in \u001b[0;36mbetweenness_centrality\u001b[1;34m(G, nodes)\u001b[0m\n\u001b[0;32m    164\u001b[0m                                             weight=None)\n\u001b[0;32m    165\u001b[0m     \u001b[1;32mfor\u001b[0m \u001b[0mnode\u001b[0m \u001b[1;32min\u001b[0m \u001b[0mtop\u001b[0m\u001b[1;33m:\u001b[0m\u001b[1;33m\u001b[0m\u001b[0m\n\u001b[1;32m--> 166\u001b[1;33m         \u001b[0mbetweenness\u001b[0m\u001b[1;33m[\u001b[0m\u001b[0mnode\u001b[0m\u001b[1;33m]\u001b[0m\u001b[1;33m/=\u001b[0m\u001b[0mbet_max_top\u001b[0m\u001b[1;33m\u001b[0m\u001b[0m\n\u001b[0m\u001b[0;32m    167\u001b[0m     \u001b[1;32mfor\u001b[0m \u001b[0mnode\u001b[0m \u001b[1;32min\u001b[0m \u001b[0mbottom\u001b[0m\u001b[1;33m:\u001b[0m\u001b[1;33m\u001b[0m\u001b[0m\n\u001b[0;32m    168\u001b[0m         \u001b[0mbetweenness\u001b[0m\u001b[1;33m[\u001b[0m\u001b[0mnode\u001b[0m\u001b[1;33m]\u001b[0m\u001b[1;33m/=\u001b[0m\u001b[0mbet_max_bot\u001b[0m\u001b[1;33m\u001b[0m\u001b[0m\n",
        "\u001b[1;31mZeroDivisionError\u001b[0m: float division by zero"
       ]
      }
     ],
     "prompt_number": 127
    },
    {
     "cell_type": "markdown",
     "metadata": {},
     "source": [
      "### Closeness Centrality\n",
      "Calculate [Closeness Centrality](http://networkx.lanl.gov/reference/generated/networkx.algorithms.bipartite.centrality.closeness_centrality.html#networkx.algorithms.bipartite.centrality.closeness_centrality)"
     ]
    },
    {
     "cell_type": "code",
     "collapsed": false,
     "input": [
      "# GC\n",
      "# GC_CC_Github = nx.algorithms.closeness_centrality(GC_Github, GC_users_nodes)\n",
      "\n",
      "# LCC2 => TypeError: unhashable type: 'set'\n",
      "# LCC2_CC_Github = nx.algorithms.closeness_centrality(LCC2_Github, LCC2_users_nodes)"
     ],
     "language": "python",
     "metadata": {},
     "outputs": [],
     "prompt_number": 130
    },
    {
     "cell_type": "code",
     "collapsed": false,
     "input": [
      "# GC\n",
      "# GC_CC_dbpedia = nx.algorithms.closeness_centrality(GC_dbpedia, GC_entities_nodes)\n",
      "\n",
      "# LCC2 => TypeError: unhashable type: 'set'\n",
      "# LCC2_CC_dbpedia = nx.algorithms.closeness_centrality(LCC2_dbpedia, LCC2_entities_nodes)"
     ],
     "language": "python",
     "metadata": {},
     "outputs": [],
     "prompt_number": 129
    },
    {
     "cell_type": "markdown",
     "metadata": {},
     "source": [
      "### Shortest Paths"
     ]
    },
    {
     "cell_type": "code",
     "collapsed": false,
     "input": [
      "# GC\n",
      "# GC_SP_Github = shortest_paths.shortest_path_length(GC_Github)\n",
      "# GC_SP_dbpedia = shortest_paths.shortest_path_length(GC_dbpedia)\n",
      "\n",
      "# LCC2\n",
      "LCC2_SP_Github = shortest_paths.shortest_path_length(LCC2_Github)\n",
      "LCC2_SP_dbpedia = shortest_paths.shortest_path_length(LCC2_dbpedia)"
     ],
     "language": "python",
     "metadata": {},
     "outputs": [],
     "prompt_number": 132
    },
    {
     "cell_type": "code",
     "collapsed": false,
     "input": [
      "# GC\n",
      "# GC_ASP_Github = shortest_paths.average_shortest_path_length(GC_Github)\n",
      "# print 'Avg. Shortest Path Github: ' + str(GC_ASP_Github)\n",
      "\n",
      "# LCC2\n",
      "LCC2_ASP_Github = shortest_paths.average_shortest_path_length(LCC2_Github)\n",
      "print 'Avg. Shortest Path Github: ' + str(LCC2_ASP_Github)\n"
     ],
     "language": "python",
     "metadata": {},
     "outputs": [
      {
       "output_type": "stream",
       "stream": "stdout",
       "text": [
        "Avg. Shortest Path Github: 2.11919191919\n"
       ]
      }
     ],
     "prompt_number": 134
    },
    {
     "cell_type": "code",
     "collapsed": false,
     "input": [
      "# GC\n",
      "# GC_ASP_dbpedia = shortest_paths.average_shortest_path_length(GC_dbpedia)\n",
      "# print 'Avg. Shortest Path Github: ' + str(GC_ASP_dbpedia)\n",
      "\n",
      "# LCC2\n",
      "LCC2_ASP_dbpedia = shortest_paths.average_shortest_path_length(LCC2_dbpedia)\n",
      "print 'Avg. Shortest Path Github: ' + str(LCC2_ASP_dbpedia)\n"
     ],
     "language": "python",
     "metadata": {},
     "outputs": [
      {
       "output_type": "stream",
       "stream": "stdout",
       "text": [
        "Avg. Shortest Path Github: 1.99408284024\n"
       ]
      }
     ],
     "prompt_number": 135
    },
    {
     "cell_type": "markdown",
     "metadata": {},
     "source": [
      "### Clustering"
     ]
    },
    {
     "cell_type": "code",
     "collapsed": false,
     "input": [
      "# GC\n",
      "# GC_CC_Github = bipartite.cluster.clustering(B_Github, users_nodes)\n",
      "\n",
      "# LCC2\n",
      "LCC2_CC_Github = bipartite.cluster.clustering(LCC2_Github)\n",
      "LCC2_CC_Github_users = bipartite.cluster.clustering(LCC2_Github, LCC2_users_nodes)\n",
      "LCC2_CC_Github_projects = bipartite.cluster.clustering(LCC2_Github, LCC2_projects_nodes)"
     ],
     "language": "python",
     "metadata": {},
     "outputs": [],
     "prompt_number": 161
    },
    {
     "cell_type": "code",
     "collapsed": false,
     "input": [
      "# GC\n",
      "# GC_CC_dbpedia = bipartite.cluster.clustering(B_dbpedia, entities_nodes)\n",
      "\n",
      "# LCC2\n",
      "LCC2_CC_dbpedia = bipartite.cluster.clustering(LCC2_dbpedia, LCC2_entities_nodes)\n",
      "LCC2_CC_dbpedia_entities = bipartite.cluster.clustering(LCC2_dbpedia, LCC2_entities_nodes)\n",
      "LCC2_CC_dbpedia_countries = bipartite.cluster.clustering(LCC2_dbpedia, LCC2_countries_nodes)"
     ],
     "language": "python",
     "metadata": {},
     "outputs": [],
     "prompt_number": 163
    },
    {
     "cell_type": "markdown",
     "metadata": {},
     "source": [
      "***Average Clustering Coefficient***"
     ]
    },
    {
     "cell_type": "code",
     "collapsed": false,
     "input": [
      "# GC\n",
      "# GC_ACC_Github = bipartite.cluster.average_clustering(B_Github, users_nodes)\n",
      "\n",
      "# LCC2\n",
      "LCC2_ACC_Github = bipartite.cluster.average_clustering(LCC2_Github)\n",
      "LCC2_ACC_Github_users = bipartite.cluster.average_clustering(LCC2_Github, LCC2_users_nodes)\n",
      "LCC2_ACC_Github_projects = bipartite.cluster.average_clustering(LCC2_Github, LCC2_projects_nodes)\n",
      "ACC_P_Github_LCC2 = nx.cluster.average_clustering(P_Github_LCC2)\n",
      "print 'Github Avg. Clustering Coefficient LCC2\\nOverall: ' + str(LCC2_ACC_Github) + '\\nProjection => ' + str(ACC_P_Github_LCC2) + '\\nUsers => ' + str(LCC2_ACC_Github_users) + '\\nProjects => ' + str(LCC2_ACC_Github_projects)"
     ],
     "language": "python",
     "metadata": {},
     "outputs": [
      {
       "output_type": "stream",
       "stream": "stdout",
       "text": [
        "Github Avg. Clustering Coefficient LCC2\n",
        "Overall: 0.901071105949\n",
        "Projection => 1.0\n",
        "Users => 0.182733255904\n",
        "Projects => 0.952380952381\n"
       ]
      }
     ],
     "prompt_number": 194
    },
    {
     "cell_type": "code",
     "collapsed": false,
     "input": [
      "# GC\n",
      "# GC_ACC_dbpedia = bipartite.cluster.average_clustering(B_dbpedia, entities_nodes)\n",
      "\n",
      "# LCC2\n",
      "LCC2_ACC_dbpedia = bipartite.cluster.average_clustering(LCC2_dbpedia)\n",
      "LCC2_ACC_dbpedia_entities = bipartite.cluster.average_clustering(LCC2_dbpedia, LCC2_entities_nodes)\n",
      "LCC2_ACC_dbpedia_countries = bipartite.cluster.average_clustering(LCC2_dbpedia, LCC2_countries_nodes)\n",
      "ACC_P_dbpedia_LCC2 = nx.cluster.average_clustering(P_dbpedia_LCC2)\n",
      "print 'dbpedia Avg. Clustering Coefficient LCC2\\nOverall: ' + str(LCC2_ACC_dbpedia) + '\\nProjection => ' + str(ACC_P_dbpedia_LCC2) + '\\nEntities => ' + str(LCC2_ACC_dbpedia_entities) + '\\nCountries => ' + str(LCC2_ACC_dbpedia_countries)"
     ],
     "language": "python",
     "metadata": {},
     "outputs": [
      {
       "output_type": "stream",
       "stream": "stdout",
       "text": [
        "dbpedia Avg. Clustering Coefficient LCC2\n",
        "Overall: 0.997041420118\n",
        "Projection => 1.0\n",
        "Entities => 1.0\n",
        "Countries => 0.0\n"
       ]
      }
     ],
     "prompt_number": 196
    },
    {
     "cell_type": "markdown",
     "metadata": {},
     "source": [
      "### Density"
     ]
    },
    {
     "cell_type": "code",
     "collapsed": false,
     "input": [
      "print 'Density Github: User => ' + str(nx.bipartite.density(B_Github, user)) + ' Projects => ' + str(nx.bipartite.density(B_Github, projects))"
     ],
     "language": "python",
     "metadata": {},
     "outputs": [
      {
       "output_type": "stream",
       "stream": "stdout",
       "text": [
        "Density Github: User => -3.80443673412e-06 Projects => -3.80443673412e-06\n"
       ]
      }
     ],
     "prompt_number": 101
    },
    {
     "cell_type": "code",
     "collapsed": false,
     "input": [
      "print 'Density dbpedia: Entities => ' + str(nx.bipartite.density(B_dbpedia, entities)) + ' Countries => ' + str(nx.bipartite.density(B_dbpedia, countries))"
     ],
     "language": "python",
     "metadata": {},
     "outputs": [
      {
       "output_type": "stream",
       "stream": "stdout",
       "text": [
        "Density dbpedia: Entities => -2.12714710275e-05 Countries => -2.12714710275e-05\n"
       ]
      }
     ],
     "prompt_number": 34
    },
    {
     "cell_type": "markdown",
     "metadata": {},
     "source": [
      "### Diameter"
     ]
    },
    {
     "cell_type": "code",
     "collapsed": false,
     "input": [
      "# DURATION\n",
      "Diam_Github = nx.algorithms.distance_measures.diameter(LCC2_Github)\n",
      "print 'Diameter Github: ' + str(Diam_Github)"
     ],
     "language": "python",
     "metadata": {},
     "outputs": [
      {
       "output_type": "stream",
       "stream": "stdout",
       "text": [
        "Diameter Github: 4\n"
       ]
      }
     ],
     "prompt_number": 145
    },
    {
     "cell_type": "code",
     "collapsed": false,
     "input": [
      "# DURATION\n",
      "Diam_dbpedia = nx.algorithms.distance_measures.diameter(LCC2_dbpedia)\n",
      "print 'Diameter dbpedia: ' + str(Diam_dbpedia)"
     ],
     "language": "python",
     "metadata": {},
     "outputs": [
      {
       "output_type": "stream",
       "stream": "stdout",
       "text": [
        "Diameter dbpedia: 2\n"
       ]
      }
     ],
     "prompt_number": 146
    },
    {
     "cell_type": "markdown",
     "metadata": {},
     "source": [
      "## Plot Diagrams\n",
      "[matplotlib](http://matplotlib.org/api/pyplot_api.html)"
     ]
    },
    {
     "cell_type": "markdown",
     "metadata": {},
     "source": [
      "### Degree"
     ]
    },
    {
     "cell_type": "markdown",
     "metadata": {},
     "source": [
      "[Degree Histogram](http://networkx.github.io/documentation/latest/reference/generated/networkx.classes.function.degree_histogram.html#networkx.classes.function.degree_histogram) returns a list of the frequency of each degree value."
     ]
    },
    {
     "cell_type": "code",
     "collapsed": false,
     "input": [
      "DegFreq_Github = function.degree_histogram(B_Github)\n",
      "print 'Degree Frequency\\nLength: ' + str(len(DegFreq_Github)) + '\\n' + 'Highest Frequency: ' + str(DegFreq_Github[1])"
     ],
     "language": "python",
     "metadata": {},
     "outputs": [
      {
       "output_type": "stream",
       "stream": "stdout",
       "text": [
        "Length: 3676\n",
        "Highest Frequency: 106430\n"
       ]
      }
     ],
     "prompt_number": 105
    },
    {
     "cell_type": "code",
     "collapsed": false,
     "input": [
      "%matplotlib inline\n",
      "plt.hist(DegFreq_Github, bins = 40, range = (0, 40), log=True)\n",
      "plt.xlabel('Degree')\n",
      "plt.ylabel('Frequency')\n",
      "plt.title('GitHub Degree Frequency')\n",
      "plt.savefig(dir_se_networks + 'figures/github_degfreq_hist.png')"
     ],
     "language": "python",
     "metadata": {},
     "outputs": [
      {
       "metadata": {},
       "output_type": "display_data",
       "png": "[encoded data removed]",
       "text": [
        "<matplotlib.figure.Figure at 0x3fb43710>"
       ]
      }
     ],
     "prompt_number": 186
    },
    {
     "cell_type": "code",
     "collapsed": false,
     "input": [
      "DegFreq_dbpedia = function.degree_histogram(B_dbpedia)\n",
      "print 'Degree Frequency\\nLength: ' + str(len(DegFreq_dbpedia)) + '\\n' + 'Highest Frequency: ' + str(DegFreq_dbpedia[1])"
     ],
     "language": "python",
     "metadata": {},
     "outputs": [
      {
       "output_type": "stream",
       "stream": "stdout",
       "text": [
        "Length: 108686\n",
        "Highest Frequency: 521213\n"
       ]
      }
     ],
     "prompt_number": 107
    },
    {
     "cell_type": "code",
     "collapsed": false,
     "input": [
      "%matplotlib inline\n",
      "plt.hist(DegFreq_dbpedia, bins = 40, range = (0, 40), log=True)\n",
      "plt.xlabel('Degree')\n",
      "plt.ylabel('Frequency')\n",
      "plt.title('dbpedia Degree Frequency')\n",
      "plt.savefig(dir_se_networks + 'figures/dbpedia_degfreq_hist.png')"
     ],
     "language": "python",
     "metadata": {},
     "outputs": [
      {
       "metadata": {},
       "output_type": "display_data",
       "png": "[encoded data removed]",
       "text": [
        "<matplotlib.figure.Figure at 0x426e490>"
       ]
      }
     ],
     "prompt_number": 113
    },
    {
     "cell_type": "code",
     "collapsed": false,
     "input": [
      "P_DegFreq_dbpedia = function.degree_histogram(P_dbpedia_LCC2)\n",
      "print 'Projected dbpedia Degree Frequency \\nLength: ' + str(len(P_DegFreq_dbpedia)) + '\\n' + 'Highest Frequency: ' + str(P_DegFreq_dbpedia[1])"
     ],
     "language": "python",
     "metadata": {},
     "outputs": [
      {
       "output_type": "stream",
       "stream": "stdout",
       "text": [
        "Projected dbpedia Degree Frequency \n",
        "Length: 337\n",
        "Highest Frequency: 0\n"
       ]
      }
     ],
     "prompt_number": 188
    },
    {
     "cell_type": "markdown",
     "metadata": {},
     "source": [
      "### Shortest Path Length"
     ]
    },
    {
     "cell_type": "code",
     "collapsed": false,
     "input": [
      "%matplotlib inline\n",
      "plt.hist(LCC2_SP_Github.values(), bins = 5, range = (0, 5))\n",
      "plt.xlabel('Shortest paths')\n",
      "plt.ylabel('Frequency')\n",
      "plt.ylim(ymax=0.0000000001)\n",
      "plt.title('GitHub LCC2 Shortest Paths')\n",
      "plt.savefig(dir_se_networks + 'figures/Github_LCC2_ShortPath_hist.png')"
     ],
     "language": "python",
     "metadata": {},
     "outputs": [
      {
       "metadata": {},
       "output_type": "display_data",
       "png": "[encoded data removed]",
       "text": [
        "<matplotlib.figure.Figure at 0x41cd7c10>"
       ]
      }
     ],
     "prompt_number": 184
    },
    {
     "cell_type": "code",
     "collapsed": false,
     "input": [
      "%matplotlib inline\n",
      "plt.hist(LCC2_SP_dbpedia.values(), bins = 5, range = (0, 5))\n",
      "plt.xlabel('Shortest paths')\n",
      "plt.ylabel('Frequency')\n",
      "plt.ylim(ymax=1)\n",
      "plt.title('dbpedia LCC2 Shortest Paths')\n",
      "plt.savefig(dir_se_networks + 'figures/dbpedia_LCC2_ShortPath_hist.png')"
     ],
     "language": "python",
     "metadata": {},
     "outputs": [
      {
       "metadata": {},
       "output_type": "display_data",
       "png": "[encoded data removed]",
       "text": [
        "<matplotlib.figure.Figure at 0x426e490>"
       ]
      }
     ],
     "prompt_number": 179
    },
    {
     "cell_type": "markdown",
     "metadata": {},
     "source": [
      "### Clustering"
     ]
    },
    {
     "cell_type": "code",
     "collapsed": false,
     "input": [
      "%matplotlib inline\n",
      "plt.hist(LCC2_CC_Github, bins = 5, range = (0, 5))\n",
      "plt.xlabel('Clustering Coefficient')\n",
      "plt.ylabel('Frequency')\n",
      "plt.title('Github LCC2 Clustering Coefficient')\n",
      "plt.savefig(dir_se_networks + 'figures/Github_ClustCoeff_hist.png')"
     ],
     "language": "python",
     "metadata": {},
     "outputs": [
      {
       "ename": "KeyError",
       "evalue": "0",
       "output_type": "pyerr",
       "traceback": [
        "\u001b[1;31m---------------------------------------------------------------------------\u001b[0m\n\u001b[1;31mKeyError\u001b[0m                                  Traceback (most recent call last)",
        "\u001b[1;32m<ipython-input-180-438117286b5d>\u001b[0m in \u001b[0;36m<module>\u001b[1;34m()\u001b[0m\n\u001b[0;32m      1\u001b[0m \u001b[0mget_ipython\u001b[0m\u001b[1;33m(\u001b[0m\u001b[1;33m)\u001b[0m\u001b[1;33m.\u001b[0m\u001b[0mmagic\u001b[0m\u001b[1;33m(\u001b[0m\u001b[1;34mu'matplotlib inline'\u001b[0m\u001b[1;33m)\u001b[0m\u001b[1;33m\u001b[0m\u001b[0m\n\u001b[1;32m----> 2\u001b[1;33m \u001b[0mplt\u001b[0m\u001b[1;33m.\u001b[0m\u001b[0mhist\u001b[0m\u001b[1;33m(\u001b[0m\u001b[0mLCC2_CC_Github\u001b[0m\u001b[1;33m,\u001b[0m \u001b[0mbins\u001b[0m \u001b[1;33m=\u001b[0m \u001b[1;36m5\u001b[0m\u001b[1;33m,\u001b[0m \u001b[0mrange\u001b[0m \u001b[1;33m=\u001b[0m \u001b[1;33m(\u001b[0m\u001b[1;36m0\u001b[0m\u001b[1;33m,\u001b[0m \u001b[1;36m5\u001b[0m\u001b[1;33m)\u001b[0m\u001b[1;33m)\u001b[0m\u001b[1;33m\u001b[0m\u001b[0m\n\u001b[0m\u001b[0;32m      3\u001b[0m \u001b[0mplt\u001b[0m\u001b[1;33m.\u001b[0m\u001b[0mxlabel\u001b[0m\u001b[1;33m(\u001b[0m\u001b[1;34m'Clustering Coefficient'\u001b[0m\u001b[1;33m)\u001b[0m\u001b[1;33m\u001b[0m\u001b[0m\n\u001b[0;32m      4\u001b[0m \u001b[0mplt\u001b[0m\u001b[1;33m.\u001b[0m\u001b[0mylabel\u001b[0m\u001b[1;33m(\u001b[0m\u001b[1;34m'Frequency'\u001b[0m\u001b[1;33m)\u001b[0m\u001b[1;33m\u001b[0m\u001b[0m\n\u001b[0;32m      5\u001b[0m \u001b[0mplt\u001b[0m\u001b[1;33m.\u001b[0m\u001b[0mtitle\u001b[0m\u001b[1;33m(\u001b[0m\u001b[1;34m'Github LCC2 Clustering Coefficient'\u001b[0m\u001b[1;33m)\u001b[0m\u001b[1;33m\u001b[0m\u001b[0m\n",
        "\u001b[1;32m/usr/lib/pymodules/python2.7/matplotlib/pyplot.pyc\u001b[0m in \u001b[0;36mhist\u001b[1;34m(x, bins, range, normed, weights, cumulative, bottom, histtype, align, orientation, rwidth, log, color, label, stacked, hold, **kwargs)\u001b[0m\n\u001b[0;32m   2670\u001b[0m                       \u001b[0mhisttype\u001b[0m\u001b[1;33m=\u001b[0m\u001b[0mhisttype\u001b[0m\u001b[1;33m,\u001b[0m \u001b[0malign\u001b[0m\u001b[1;33m=\u001b[0m\u001b[0malign\u001b[0m\u001b[1;33m,\u001b[0m \u001b[0morientation\u001b[0m\u001b[1;33m=\u001b[0m\u001b[0morientation\u001b[0m\u001b[1;33m,\u001b[0m\u001b[1;33m\u001b[0m\u001b[0m\n\u001b[0;32m   2671\u001b[0m                       \u001b[0mrwidth\u001b[0m\u001b[1;33m=\u001b[0m\u001b[0mrwidth\u001b[0m\u001b[1;33m,\u001b[0m \u001b[0mlog\u001b[0m\u001b[1;33m=\u001b[0m\u001b[0mlog\u001b[0m\u001b[1;33m,\u001b[0m \u001b[0mcolor\u001b[0m\u001b[1;33m=\u001b[0m\u001b[0mcolor\u001b[0m\u001b[1;33m,\u001b[0m \u001b[0mlabel\u001b[0m\u001b[1;33m=\u001b[0m\u001b[0mlabel\u001b[0m\u001b[1;33m,\u001b[0m\u001b[1;33m\u001b[0m\u001b[0m\n\u001b[1;32m-> 2672\u001b[1;33m                       stacked=stacked, **kwargs)\n\u001b[0m\u001b[0;32m   2673\u001b[0m         \u001b[0mdraw_if_interactive\u001b[0m\u001b[1;33m(\u001b[0m\u001b[1;33m)\u001b[0m\u001b[1;33m\u001b[0m\u001b[0m\n\u001b[0;32m   2674\u001b[0m     \u001b[1;32mfinally\u001b[0m\u001b[1;33m:\u001b[0m\u001b[1;33m\u001b[0m\u001b[0m\n",
        "\u001b[1;32m/usr/lib/pymodules/python2.7/matplotlib/axes.pyc\u001b[0m in \u001b[0;36mhist\u001b[1;34m(self, x, bins, range, normed, weights, cumulative, bottom, histtype, align, orientation, rwidth, log, color, label, stacked, **kwargs)\u001b[0m\n\u001b[0;32m   8024\u001b[0m         \u001b[1;31m# Massage 'x' for processing.\u001b[0m\u001b[1;33m\u001b[0m\u001b[1;33m\u001b[0m\u001b[0m\n\u001b[0;32m   8025\u001b[0m         \u001b[1;31m# NOTE: Be sure any changes here is also done below to 'weights'\u001b[0m\u001b[1;33m\u001b[0m\u001b[1;33m\u001b[0m\u001b[0m\n\u001b[1;32m-> 8026\u001b[1;33m         \u001b[1;32mif\u001b[0m \u001b[0misinstance\u001b[0m\u001b[1;33m(\u001b[0m\u001b[0mx\u001b[0m\u001b[1;33m,\u001b[0m \u001b[0mnp\u001b[0m\u001b[1;33m.\u001b[0m\u001b[0mndarray\u001b[0m\u001b[1;33m)\u001b[0m \u001b[1;32mor\u001b[0m \u001b[1;32mnot\u001b[0m \u001b[0miterable\u001b[0m\u001b[1;33m(\u001b[0m\u001b[0mx\u001b[0m\u001b[1;33m[\u001b[0m\u001b[1;36m0\u001b[0m\u001b[1;33m]\u001b[0m\u001b[1;33m)\u001b[0m\u001b[1;33m:\u001b[0m\u001b[1;33m\u001b[0m\u001b[0m\n\u001b[0m\u001b[0;32m   8027\u001b[0m             \u001b[1;31m# TODO: support masked arrays;\u001b[0m\u001b[1;33m\u001b[0m\u001b[1;33m\u001b[0m\u001b[0m\n\u001b[0;32m   8028\u001b[0m             \u001b[0mx\u001b[0m \u001b[1;33m=\u001b[0m \u001b[0mnp\u001b[0m\u001b[1;33m.\u001b[0m\u001b[0masarray\u001b[0m\u001b[1;33m(\u001b[0m\u001b[0mx\u001b[0m\u001b[1;33m)\u001b[0m\u001b[1;33m\u001b[0m\u001b[0m\n",
        "\u001b[1;31mKeyError\u001b[0m: 0"
       ]
      },
      {
       "metadata": {},
       "output_type": "display_data",
       "png": "[encoded data removed]",
       "text": [
        "<matplotlib.figure.Figure at 0x34065090>"
       ]
      }
     ],
     "prompt_number": 180
    },
    {
     "cell_type": "code",
     "collapsed": false,
     "input": [
      "%matplotlib inline\n",
      "plt.hist(LCC2_CC_dbpedia, bins = 5, range = (0, 5))\n",
      "plt.xlabel('Clustering Coefficient')\n",
      "plt.ylabel('Frequency')\n",
      "plt.title('dbpedia LCC2 Clustering Coefficient')\n",
      "plt.savefig(dir_se_networks + 'figures/dbpedia_ClustCoeff_hist.png')\n",
      "# LCC2_CC_dbpedia_entities\n",
      "# LCC2_CC_dbpedia_countries"
     ],
     "language": "python",
     "metadata": {},
     "outputs": [
      {
       "ename": "KeyError",
       "evalue": "0",
       "output_type": "pyerr",
       "traceback": [
        "\u001b[1;31m---------------------------------------------------------------------------\u001b[0m\n\u001b[1;31mKeyError\u001b[0m                                  Traceback (most recent call last)",
        "\u001b[1;32m<ipython-input-181-40fb69c614fc>\u001b[0m in \u001b[0;36m<module>\u001b[1;34m()\u001b[0m\n\u001b[0;32m      1\u001b[0m \u001b[0mget_ipython\u001b[0m\u001b[1;33m(\u001b[0m\u001b[1;33m)\u001b[0m\u001b[1;33m.\u001b[0m\u001b[0mmagic\u001b[0m\u001b[1;33m(\u001b[0m\u001b[1;34mu'matplotlib inline'\u001b[0m\u001b[1;33m)\u001b[0m\u001b[1;33m\u001b[0m\u001b[0m\n\u001b[1;32m----> 2\u001b[1;33m \u001b[0mplt\u001b[0m\u001b[1;33m.\u001b[0m\u001b[0mhist\u001b[0m\u001b[1;33m(\u001b[0m\u001b[0mLCC2_CC_dbpedia\u001b[0m\u001b[1;33m,\u001b[0m \u001b[0mbins\u001b[0m \u001b[1;33m=\u001b[0m \u001b[1;36m5\u001b[0m\u001b[1;33m,\u001b[0m \u001b[0mrange\u001b[0m \u001b[1;33m=\u001b[0m \u001b[1;33m(\u001b[0m\u001b[1;36m0\u001b[0m\u001b[1;33m,\u001b[0m \u001b[1;36m5\u001b[0m\u001b[1;33m)\u001b[0m\u001b[1;33m)\u001b[0m\u001b[1;33m\u001b[0m\u001b[0m\n\u001b[0m\u001b[0;32m      3\u001b[0m \u001b[0mplt\u001b[0m\u001b[1;33m.\u001b[0m\u001b[0mxlabel\u001b[0m\u001b[1;33m(\u001b[0m\u001b[1;34m'Clustering Coefficient'\u001b[0m\u001b[1;33m)\u001b[0m\u001b[1;33m\u001b[0m\u001b[0m\n\u001b[0;32m      4\u001b[0m \u001b[0mplt\u001b[0m\u001b[1;33m.\u001b[0m\u001b[0mylabel\u001b[0m\u001b[1;33m(\u001b[0m\u001b[1;34m'Frequency'\u001b[0m\u001b[1;33m)\u001b[0m\u001b[1;33m\u001b[0m\u001b[0m\n\u001b[0;32m      5\u001b[0m \u001b[0mplt\u001b[0m\u001b[1;33m.\u001b[0m\u001b[0mtitle\u001b[0m\u001b[1;33m(\u001b[0m\u001b[1;34m'dbpedia LCC2 Clustering Coefficient'\u001b[0m\u001b[1;33m)\u001b[0m\u001b[1;33m\u001b[0m\u001b[0m\n",
        "\u001b[1;32m/usr/lib/pymodules/python2.7/matplotlib/pyplot.pyc\u001b[0m in \u001b[0;36mhist\u001b[1;34m(x, bins, range, normed, weights, cumulative, bottom, histtype, align, orientation, rwidth, log, color, label, stacked, hold, **kwargs)\u001b[0m\n\u001b[0;32m   2670\u001b[0m                       \u001b[0mhisttype\u001b[0m\u001b[1;33m=\u001b[0m\u001b[0mhisttype\u001b[0m\u001b[1;33m,\u001b[0m \u001b[0malign\u001b[0m\u001b[1;33m=\u001b[0m\u001b[0malign\u001b[0m\u001b[1;33m,\u001b[0m \u001b[0morientation\u001b[0m\u001b[1;33m=\u001b[0m\u001b[0morientation\u001b[0m\u001b[1;33m,\u001b[0m\u001b[1;33m\u001b[0m\u001b[0m\n\u001b[0;32m   2671\u001b[0m                       \u001b[0mrwidth\u001b[0m\u001b[1;33m=\u001b[0m\u001b[0mrwidth\u001b[0m\u001b[1;33m,\u001b[0m \u001b[0mlog\u001b[0m\u001b[1;33m=\u001b[0m\u001b[0mlog\u001b[0m\u001b[1;33m,\u001b[0m \u001b[0mcolor\u001b[0m\u001b[1;33m=\u001b[0m\u001b[0mcolor\u001b[0m\u001b[1;33m,\u001b[0m \u001b[0mlabel\u001b[0m\u001b[1;33m=\u001b[0m\u001b[0mlabel\u001b[0m\u001b[1;33m,\u001b[0m\u001b[1;33m\u001b[0m\u001b[0m\n\u001b[1;32m-> 2672\u001b[1;33m                       stacked=stacked, **kwargs)\n\u001b[0m\u001b[0;32m   2673\u001b[0m         \u001b[0mdraw_if_interactive\u001b[0m\u001b[1;33m(\u001b[0m\u001b[1;33m)\u001b[0m\u001b[1;33m\u001b[0m\u001b[0m\n\u001b[0;32m   2674\u001b[0m     \u001b[1;32mfinally\u001b[0m\u001b[1;33m:\u001b[0m\u001b[1;33m\u001b[0m\u001b[0m\n",
        "\u001b[1;32m/usr/lib/pymodules/python2.7/matplotlib/axes.pyc\u001b[0m in \u001b[0;36mhist\u001b[1;34m(self, x, bins, range, normed, weights, cumulative, bottom, histtype, align, orientation, rwidth, log, color, label, stacked, **kwargs)\u001b[0m\n\u001b[0;32m   8024\u001b[0m         \u001b[1;31m# Massage 'x' for processing.\u001b[0m\u001b[1;33m\u001b[0m\u001b[1;33m\u001b[0m\u001b[0m\n\u001b[0;32m   8025\u001b[0m         \u001b[1;31m# NOTE: Be sure any changes here is also done below to 'weights'\u001b[0m\u001b[1;33m\u001b[0m\u001b[1;33m\u001b[0m\u001b[0m\n\u001b[1;32m-> 8026\u001b[1;33m         \u001b[1;32mif\u001b[0m \u001b[0misinstance\u001b[0m\u001b[1;33m(\u001b[0m\u001b[0mx\u001b[0m\u001b[1;33m,\u001b[0m \u001b[0mnp\u001b[0m\u001b[1;33m.\u001b[0m\u001b[0mndarray\u001b[0m\u001b[1;33m)\u001b[0m \u001b[1;32mor\u001b[0m \u001b[1;32mnot\u001b[0m \u001b[0miterable\u001b[0m\u001b[1;33m(\u001b[0m\u001b[0mx\u001b[0m\u001b[1;33m[\u001b[0m\u001b[1;36m0\u001b[0m\u001b[1;33m]\u001b[0m\u001b[1;33m)\u001b[0m\u001b[1;33m:\u001b[0m\u001b[1;33m\u001b[0m\u001b[0m\n\u001b[0m\u001b[0;32m   8027\u001b[0m             \u001b[1;31m# TODO: support masked arrays;\u001b[0m\u001b[1;33m\u001b[0m\u001b[1;33m\u001b[0m\u001b[0m\n\u001b[0;32m   8028\u001b[0m             \u001b[0mx\u001b[0m \u001b[1;33m=\u001b[0m \u001b[0mnp\u001b[0m\u001b[1;33m.\u001b[0m\u001b[0masarray\u001b[0m\u001b[1;33m(\u001b[0m\u001b[0mx\u001b[0m\u001b[1;33m)\u001b[0m\u001b[1;33m\u001b[0m\u001b[0m\n",
        "\u001b[1;31mKeyError\u001b[0m: 0"
       ]
      },
      {
       "metadata": {},
       "output_type": "display_data",
       "png": "[encoded data removed]",
       "text": [
        "<matplotlib.figure.Figure at 0x426e490>"
       ]
      }
     ],
     "prompt_number": 181
    },
    {
     "cell_type": "code",
     "collapsed": false,
     "input": [],
     "language": "python",
     "metadata": {},
     "outputs": []
    },
    {
     "cell_type": "code",
     "collapsed": false,
     "input": [],
     "language": "python",
     "metadata": {},
     "outputs": []
    },
    {
     "cell_type": "code",
     "collapsed": false,
     "input": [],
     "language": "python",
     "metadata": {},
     "outputs": []
    },
    {
     "cell_type": "code",
     "collapsed": false,
     "input": [],
     "language": "python",
     "metadata": {},
     "outputs": []
    }
   ],
   "metadata": {}
  }
 ]
}